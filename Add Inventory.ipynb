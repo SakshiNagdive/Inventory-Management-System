{
 "cells": [
  {
   "cell_type": "code",
   "execution_count": 1,
   "id": "b79a2f87",
   "metadata": {},
   "outputs": [],
   "source": [
    "record = { 115015001:{ \"Name\":\"Helicopter\"     , \"Type\":\"Remote Control\" , \"Price\":699  ,\"Quantity\":1450  , \"Color\":\"Red\"        },\n",
    "           115015002:{ \"Name\":\"Turtle Car\"     ,\"Type\":\"Remote Control\"  , \"Price\":699  ,\"Quantity\":2190   , \"Color\":\"Green\"      },\n",
    "           115015003:{ \"Name\":\"Robot Car\"      , \"Type\":\"Remote Control\" , \"Price\":499  ,\"Quantity\":2700  , \"Color\":\"yellow\"     },\n",
    "           115015004:{ \"Name\": \"Unicorn Horse\" , \"Type\":\"Soft Toy\"       , \"Price\":299  ,\"Quantity\":2560  , \"Color\":\"Multicolor\" },\n",
    "           115015005:{ \"Name\": \"Teddy Bear\"    , \"Type\":\"Soft Toy\"       , \"Price\":419  ,\"Quantity\":1300  , \"Color\":\"Black-White\"},\n",
    "           115015006:{ \"Name\": \"Fluflies Bear\" , \"Type\":\"Soft Toy\"       , \"Price\":216  ,\"Quantity\":1380  , \"Color\":\"Yellow\"     },\n",
    "           115015007:{ \"Name\": \"Mickey Chair\"  , \"Type\":\"Soft Toy\"       , \"Price\":599  ,\"Quantity\":295  , \"Color\":\"Red\"        },\n",
    "           115015008:{ \"Name\": \"OZEE elephant\" , \"Type\":\"Soft Toy\"       , \"Price\":165  ,\"Quantity\":1170  , \"Color\":\"Pink\"       },\n",
    "           115015009:{ \"Name\": \"White Rabbit\"  , \"Type\":\"Soft Toy\"       , \"Price\":119  ,\"Quantity\":1450  , \"Color\":\"White\"      },\n",
    "           115015010:{ \"Name\": \"Desti Elephant\", \"Type\":\"Soft Toy\"      , \"Price\":156   ,\"Quantity\":1175 , \"Color\":\"Blue\"       },\n",
    "           115015011:{ \"Name\": \"Penguin\"       , \"Type\":\"Soft Toy\"      , \"Price\":170   ,\"Quantity\":2500  , \"Color\":\"Blue\"       },\n",
    "           115015012:{ \"Name\": \"Catterpillar\"  , \"Type\":\"Soft Toy\"      , \"Price\":160   ,\"Quantity\":1180 , \"Color\":\"Multicolor\" },\n",
    "           115015013:{ \"Name\":\"Puzzle Mat\"     , \"Type\":\"Puzzle\"        , \"Price\":189   ,\"Quantity\":1270  , \"Color\":\"Multicolor\" },\n",
    "           115015014:{ \"Name\":\"Magic Cube\"     , \"Type\":\"Puzzle\"        , \"Price\":149   ,\"Quantity\":1100  , \"Color\":\"Multicolor\" },\n",
    "           115015015:{ \"Name\":\"Animal World\"   , \"Type\":\"Puzzle\"        , \"Price\":244   ,\"Quantity\":2480  , \"Color\":\"Multicolor\" },\n",
    "           115015016:{ \"Name\":\"Indian Map\"     , \"Type\":\"Puzzle\"        , \"Price\":173   ,\"Quantity\":3240  , \"Color\":\"Multicolor\" },\n",
    "           115015017:{ \"Name\":\"Marbles\"        , \"Type\": \"Marbles\"      , \"Price\":199   ,\"Quantity\":2200  , \"Color\":\"Multicolor\" },\n",
    "           115015018:{ \"Name\":\"Painting kit\"   , \"Type\":\"Education Toy\" , \"Price\":169   ,\"Quantity\":1600  , \"Color\":\"Multicolor\" },\n",
    "           115015019:{ \"Name\":\"Makeup Set\"     , \"Type\": \"Girls Toy\"    , \"Price\":189   ,\"Quantity\":510  , \"Color\":\"Multicolor\" },\n",
    "           115015020:{ \"Name\":\"Kitchen Set\"    , \"Type\":\"Girls Toy\"     , \"Price\":172   ,\"Quantity\":270  , \"Color\":\"Multicolor\" },\n",
    "           115015021:{ \"Name\":\"Painting Brush\"  , \"Type\":\"Drawing Toy\"   , \"Price\":72    ,\"Quantity\":2150  , \"Color\":\"Multicolor\"},\n",
    "           115015022:{ \"Name\":\"Snake and ladder\",\"Type\":\"Board Game\"     , \"Price\":779  ,\"Quantity\":4200  , \"Color\":\"Multicolor\"},\n",
    "           115015023:{ \"Name\":\"Chess Set\"       , \"Type\":\"Board Game\"     , \"Price\":347  ,\"Quantity\":2280  , \"Color\":\"Black-White\"},\n",
    "           115015024:{ \"Name\":\"Business\"        , \"Type\":\"Board Game\"     , \"Price\":265  ,\"Quantity\":1250  , \"Color\":\"Multicolor\" },\n",
    "           115015025:{ \"Name\":\"Carrom\"          , \"Type\":\"Board Game\"     , \"Price\":500 ,\"Quantity\":1720   , \"Color\":\"Shinny Cream\"},\n",
    "           115015026:{ \"Name\":\"Tic Tac Toe\"     , \"Type\":\"Board Game\"     , \"Price\":175 ,\"Quantity\":2020   , \"Color\":\"Yellow\"      },\n",
    "           115015027:{ \"Name\":\"Wodden DartBoard\", \"Type\":\"Board Game\"     , \"Price\":499 ,\"Quantity\":3520   , \"Color\":\"Multicolor\"  },\n",
    "           115015028:{ \"Name\":\"Runner Scooter\"  , \"Type\":\"Outdoor\"        , \"Price\":3299 ,\"Quantity\":3420  , \"Color\":\"Red\"         },\n",
    "           115015029:{ \"Name\":\"Beach Tool\"      , \"Type\":\"Outdoor\"        , \"Price\":259 ,\"Quantity\":2002   , \"Color\":\"Multicolor\"  },\n",
    "           115015030:{ \"Name\":\"House Hut\"       , \"Type\":\"Play Hut\"       ,\"Price\":1565 ,\"Quantity\":2502   , \"Color\":\"Pink-White\"  },\n",
    "         }"
   ]
  },
  {
   "cell_type": "code",
   "execution_count": 2,
   "id": "98592744",
   "metadata": {},
   "outputs": [
    {
     "name": "stdout",
     "output_type": "stream",
     "text": [
      "Fluflies Bear\n",
      "Soft Toy\n",
      "216\n",
      "1380\n",
      "Yellow\n"
     ]
    }
   ],
   "source": [
    "reg = 115015006\n",
    "\n",
    "print(record[reg]['Name'])\n",
    "print(record[reg]['Type'])\n",
    "print(record[reg]['Price'])\n",
    "print(record[reg]['Quantity'])\n",
    "print(record[reg]['Color'])"
   ]
  },
  {
   "cell_type": "code",
   "execution_count": 3,
   "id": "adc68ae8",
   "metadata": {},
   "outputs": [
    {
     "name": "stdout",
     "output_type": "stream",
     "text": [
      "Marbles\n",
      "Marbles\n",
      "199\n",
      "2200\n",
      "Multicolor\n"
     ]
    }
   ],
   "source": [
    "reg = 115015017\n",
    "\n",
    "print(record[reg]['Name'])\n",
    "print(record[reg]['Type'])\n",
    "print(record[reg]['Price'])\n",
    "print(record[reg]['Quantity'])\n",
    "print(record[reg]['Color'])"
   ]
  },
  {
   "cell_type": "code",
   "execution_count": 4,
   "id": "c036ade0",
   "metadata": {},
   "outputs": [
    {
     "name": "stdout",
     "output_type": "stream",
     "text": [
      "Business\n",
      "Board Game\n",
      "265\n",
      "1250\n",
      "Multicolor\n"
     ]
    }
   ],
   "source": [
    "reg = 115015024\n",
    "\n",
    "print(record[reg]['Name'])\n",
    "print(record[reg]['Type'])\n",
    "print(record[reg]['Price'])\n",
    "print(record[reg]['Quantity'])\n",
    "print(record[reg]['Color'])"
   ]
  },
  {
   "cell_type": "code",
   "execution_count": 5,
   "id": "ca9fc92a",
   "metadata": {},
   "outputs": [
    {
     "name": "stdout",
     "output_type": "stream",
     "text": [
      "Puzzle Mat\n",
      "Puzzle\n",
      "189\n",
      "1270\n",
      "Multicolor\n"
     ]
    }
   ],
   "source": [
    "reg = 115015013\n",
    "\n",
    "print(record[reg]['Name'])\n",
    "print(record[reg]['Type'])\n",
    "print(record[reg]['Price'])\n",
    "print(record[reg]['Quantity'])\n",
    "print(record[reg]['Color'])"
   ]
  },
  {
   "cell_type": "code",
   "execution_count": 6,
   "id": "d96f4e49",
   "metadata": {},
   "outputs": [
    {
     "name": "stdout",
     "output_type": "stream",
     "text": [
      "Beach Tool\n",
      "Outdoor\n",
      "259\n",
      "2002\n",
      "Multicolor\n"
     ]
    }
   ],
   "source": [
    "reg = 115015029\n",
    "\n",
    "print(record[reg]['Name'])\n",
    "print(record[reg]['Type'])\n",
    "print(record[reg]['Price'])\n",
    "print(record[reg]['Quantity'])\n",
    "print(record[reg]['Color'])"
   ]
  },
  {
   "cell_type": "code",
   "execution_count": 7,
   "id": "18e978f1",
   "metadata": {},
   "outputs": [
    {
     "data": {
      "text/plain": [
       "{115015001: {'Name': 'Helicopter',\n",
       "  'Type': 'Remote Control',\n",
       "  'Price': 699,\n",
       "  'Quantity': 1450,\n",
       "  'Color': 'Red'},\n",
       " 115015002: {'Name': 'Turtle Car',\n",
       "  'Type': 'Remote Control',\n",
       "  'Price': 699,\n",
       "  'Quantity': 2190,\n",
       "  'Color': 'Green'},\n",
       " 115015003: {'Name': 'Robot Car',\n",
       "  'Type': 'Remote Control',\n",
       "  'Price': 499,\n",
       "  'Quantity': 2700,\n",
       "  'Color': 'yellow'},\n",
       " 115015004: {'Name': 'Unicorn Horse',\n",
       "  'Type': 'Soft Toy',\n",
       "  'Price': 299,\n",
       "  'Quantity': 2560,\n",
       "  'Color': 'Multicolor'},\n",
       " 115015005: {'Name': 'Teddy Bear',\n",
       "  'Type': 'Soft Toy',\n",
       "  'Price': 419,\n",
       "  'Quantity': 1300,\n",
       "  'Color': 'Black-White'},\n",
       " 115015006: {'Name': 'Fluflies Bear',\n",
       "  'Type': 'Soft Toy',\n",
       "  'Price': 216,\n",
       "  'Quantity': 1380,\n",
       "  'Color': 'Yellow'},\n",
       " 115015007: {'Name': 'Mickey Chair',\n",
       "  'Type': 'Soft Toy',\n",
       "  'Price': 599,\n",
       "  'Quantity': 295,\n",
       "  'Color': 'Red'},\n",
       " 115015008: {'Name': 'OZEE elephant',\n",
       "  'Type': 'Soft Toy',\n",
       "  'Price': 165,\n",
       "  'Quantity': 1170,\n",
       "  'Color': 'Pink'},\n",
       " 115015009: {'Name': 'White Rabbit',\n",
       "  'Type': 'Soft Toy',\n",
       "  'Price': 119,\n",
       "  'Quantity': 1450,\n",
       "  'Color': 'White'},\n",
       " 115015010: {'Name': 'Desti Elephant',\n",
       "  'Type': 'Soft Toy',\n",
       "  'Price': 156,\n",
       "  'Quantity': 1175,\n",
       "  'Color': 'Blue'},\n",
       " 115015011: {'Name': 'Penguin',\n",
       "  'Type': 'Soft Toy',\n",
       "  'Price': 170,\n",
       "  'Quantity': 2500,\n",
       "  'Color': 'Blue'},\n",
       " 115015012: {'Name': 'Catterpillar',\n",
       "  'Type': 'Soft Toy',\n",
       "  'Price': 160,\n",
       "  'Quantity': 1180,\n",
       "  'Color': 'Multicolor'},\n",
       " 115015013: {'Name': 'Puzzle Mat',\n",
       "  'Type': 'Puzzle',\n",
       "  'Price': 189,\n",
       "  'Quantity': 1270,\n",
       "  'Color': 'Multicolor'},\n",
       " 115015014: {'Name': 'Magic Cube',\n",
       "  'Type': 'Puzzle',\n",
       "  'Price': 149,\n",
       "  'Quantity': 1100,\n",
       "  'Color': 'Multicolor'},\n",
       " 115015015: {'Name': 'Animal World',\n",
       "  'Type': 'Puzzle',\n",
       "  'Price': 244,\n",
       "  'Quantity': 2480,\n",
       "  'Color': 'Multicolor'},\n",
       " 115015016: {'Name': 'Indian Map',\n",
       "  'Type': 'Puzzle',\n",
       "  'Price': 173,\n",
       "  'Quantity': 3240,\n",
       "  'Color': 'Multicolor'},\n",
       " 115015017: {'Name': 'Marbles',\n",
       "  'Type': 'Marbles',\n",
       "  'Price': 199,\n",
       "  'Quantity': 2200,\n",
       "  'Color': 'Multicolor'},\n",
       " 115015018: {'Name': 'Painting kit',\n",
       "  'Type': 'Education Toy',\n",
       "  'Price': 169,\n",
       "  'Quantity': 1600,\n",
       "  'Color': 'Multicolor'},\n",
       " 115015019: {'Name': 'Makeup Set',\n",
       "  'Type': 'Girls Toy',\n",
       "  'Price': 189,\n",
       "  'Quantity': 510,\n",
       "  'Color': 'Multicolor'},\n",
       " 115015020: {'Name': 'Kitchen Set',\n",
       "  'Type': 'Girls Toy',\n",
       "  'Price': 172,\n",
       "  'Quantity': 270,\n",
       "  'Color': 'Multicolor'},\n",
       " 115015021: {'Name': 'Painting Brush',\n",
       "  'Type': 'Drawing Toy',\n",
       "  'Price': 72,\n",
       "  'Quantity': 2150,\n",
       "  'Color': 'Multicolor'},\n",
       " 115015022: {'Name': 'Snake and ladder',\n",
       "  'Type': 'Board Game',\n",
       "  'Price': 779,\n",
       "  'Quantity': 4200,\n",
       "  'Color': 'Multicolor'},\n",
       " 115015023: {'Name': 'Chess Set',\n",
       "  'Type': 'Board Game',\n",
       "  'Price': 347,\n",
       "  'Quantity': 2280,\n",
       "  'Color': 'Black-White'},\n",
       " 115015024: {'Name': 'Business',\n",
       "  'Type': 'Board Game',\n",
       "  'Price': 265,\n",
       "  'Quantity': 1250,\n",
       "  'Color': 'Multicolor'},\n",
       " 115015025: {'Name': 'Carrom',\n",
       "  'Type': 'Board Game',\n",
       "  'Price': 500,\n",
       "  'Quantity': 1720,\n",
       "  'Color': 'Shinny Cream'},\n",
       " 115015026: {'Name': 'Tic Tac Toe',\n",
       "  'Type': 'Board Game',\n",
       "  'Price': 175,\n",
       "  'Quantity': 2020,\n",
       "  'Color': 'Yellow'},\n",
       " 115015027: {'Name': 'Wodden DartBoard',\n",
       "  'Type': 'Board Game',\n",
       "  'Price': 499,\n",
       "  'Quantity': 3520,\n",
       "  'Color': 'Multicolor'},\n",
       " 115015028: {'Name': 'Runner Scooter',\n",
       "  'Type': 'Outdoor',\n",
       "  'Price': 3299,\n",
       "  'Quantity': 3420,\n",
       "  'Color': 'Red'},\n",
       " 115015029: {'Name': 'Beach Tool',\n",
       "  'Type': 'Outdoor',\n",
       "  'Price': 259,\n",
       "  'Quantity': 2002,\n",
       "  'Color': 'Multicolor'},\n",
       " 115015030: {'Name': 'House Hut',\n",
       "  'Type': 'Play Hut',\n",
       "  'Price': 1565,\n",
       "  'Quantity': 2502,\n",
       "  'Color': 'Pink-White'}}"
      ]
     },
     "execution_count": 7,
     "metadata": {},
     "output_type": "execute_result"
    }
   ],
   "source": [
    "record"
   ]
  },
  {
   "cell_type": "code",
   "execution_count": 8,
   "id": "8a2a6a60",
   "metadata": {},
   "outputs": [],
   "source": [
    "import json\n",
    "js = json.dumps(record)"
   ]
  },
  {
   "cell_type": "code",
   "execution_count": 9,
   "id": "0d47ba54",
   "metadata": {},
   "outputs": [
    {
     "data": {
      "text/plain": [
       "'{\"115015001\": {\"Name\": \"Helicopter\", \"Type\": \"Remote Control\", \"Price\": 699, \"Quantity\": 1450, \"Color\": \"Red\"}, \"115015002\": {\"Name\": \"Turtle Car\", \"Type\": \"Remote Control\", \"Price\": 699, \"Quantity\": 2190, \"Color\": \"Green\"}, \"115015003\": {\"Name\": \"Robot Car\", \"Type\": \"Remote Control\", \"Price\": 499, \"Quantity\": 2700, \"Color\": \"yellow\"}, \"115015004\": {\"Name\": \"Unicorn Horse\", \"Type\": \"Soft Toy\", \"Price\": 299, \"Quantity\": 2560, \"Color\": \"Multicolor\"}, \"115015005\": {\"Name\": \"Teddy Bear\", \"Type\": \"Soft Toy\", \"Price\": 419, \"Quantity\": 1300, \"Color\": \"Black-White\"}, \"115015006\": {\"Name\": \"Fluflies Bear\", \"Type\": \"Soft Toy\", \"Price\": 216, \"Quantity\": 1380, \"Color\": \"Yellow\"}, \"115015007\": {\"Name\": \"Mickey Chair\", \"Type\": \"Soft Toy\", \"Price\": 599, \"Quantity\": 295, \"Color\": \"Red\"}, \"115015008\": {\"Name\": \"OZEE elephant\", \"Type\": \"Soft Toy\", \"Price\": 165, \"Quantity\": 1170, \"Color\": \"Pink\"}, \"115015009\": {\"Name\": \"White Rabbit\", \"Type\": \"Soft Toy\", \"Price\": 119, \"Quantity\": 1450, \"Color\": \"White\"}, \"115015010\": {\"Name\": \"Desti Elephant\", \"Type\": \"Soft Toy\", \"Price\": 156, \"Quantity\": 1175, \"Color\": \"Blue\"}, \"115015011\": {\"Name\": \"Penguin\", \"Type\": \"Soft Toy\", \"Price\": 170, \"Quantity\": 2500, \"Color\": \"Blue\"}, \"115015012\": {\"Name\": \"Catterpillar\", \"Type\": \"Soft Toy\", \"Price\": 160, \"Quantity\": 1180, \"Color\": \"Multicolor\"}, \"115015013\": {\"Name\": \"Puzzle Mat\", \"Type\": \"Puzzle\", \"Price\": 189, \"Quantity\": 1270, \"Color\": \"Multicolor\"}, \"115015014\": {\"Name\": \"Magic Cube\", \"Type\": \"Puzzle\", \"Price\": 149, \"Quantity\": 1100, \"Color\": \"Multicolor\"}, \"115015015\": {\"Name\": \"Animal World\", \"Type\": \"Puzzle\", \"Price\": 244, \"Quantity\": 2480, \"Color\": \"Multicolor\"}, \"115015016\": {\"Name\": \"Indian Map\", \"Type\": \"Puzzle\", \"Price\": 173, \"Quantity\": 3240, \"Color\": \"Multicolor\"}, \"115015017\": {\"Name\": \"Marbles\", \"Type\": \"Marbles\", \"Price\": 199, \"Quantity\": 2200, \"Color\": \"Multicolor\"}, \"115015018\": {\"Name\": \"Painting kit\", \"Type\": \"Education Toy\", \"Price\": 169, \"Quantity\": 1600, \"Color\": \"Multicolor\"}, \"115015019\": {\"Name\": \"Makeup Set\", \"Type\": \"Girls Toy\", \"Price\": 189, \"Quantity\": 510, \"Color\": \"Multicolor\"}, \"115015020\": {\"Name\": \"Kitchen Set\", \"Type\": \"Girls Toy\", \"Price\": 172, \"Quantity\": 270, \"Color\": \"Multicolor\"}, \"115015021\": {\"Name\": \"Painting Brush\", \"Type\": \"Drawing Toy\", \"Price\": 72, \"Quantity\": 2150, \"Color\": \"Multicolor\"}, \"115015022\": {\"Name\": \"Snake and ladder\", \"Type\": \"Board Game\", \"Price\": 779, \"Quantity\": 4200, \"Color\": \"Multicolor\"}, \"115015023\": {\"Name\": \"Chess Set\", \"Type\": \"Board Game\", \"Price\": 347, \"Quantity\": 2280, \"Color\": \"Black-White\"}, \"115015024\": {\"Name\": \"Business\", \"Type\": \"Board Game\", \"Price\": 265, \"Quantity\": 1250, \"Color\": \"Multicolor\"}, \"115015025\": {\"Name\": \"Carrom\", \"Type\": \"Board Game\", \"Price\": 500, \"Quantity\": 1720, \"Color\": \"Shinny Cream\"}, \"115015026\": {\"Name\": \"Tic Tac Toe\", \"Type\": \"Board Game\", \"Price\": 175, \"Quantity\": 2020, \"Color\": \"Yellow\"}, \"115015027\": {\"Name\": \"Wodden DartBoard\", \"Type\": \"Board Game\", \"Price\": 499, \"Quantity\": 3520, \"Color\": \"Multicolor\"}, \"115015028\": {\"Name\": \"Runner Scooter\", \"Type\": \"Outdoor\", \"Price\": 3299, \"Quantity\": 3420, \"Color\": \"Red\"}, \"115015029\": {\"Name\": \"Beach Tool\", \"Type\": \"Outdoor\", \"Price\": 259, \"Quantity\": 2002, \"Color\": \"Multicolor\"}, \"115015030\": {\"Name\": \"House Hut\", \"Type\": \"Play Hut\", \"Price\": 1565, \"Quantity\": 2502, \"Color\": \"Pink-White\"}}'"
      ]
     },
     "execution_count": 9,
     "metadata": {},
     "output_type": "execute_result"
    }
   ],
   "source": [
    "js"
   ]
  },
  {
   "cell_type": "code",
   "execution_count": 10,
   "id": "dabdd58a",
   "metadata": {},
   "outputs": [],
   "source": [
    "fd = open(\"record.json\",'w')\n",
    "\n",
    "fd.write(js)\n",
    "\n",
    "fd.close()"
   ]
  },
  {
   "cell_type": "code",
   "execution_count": 11,
   "id": "a69d584c",
   "metadata": {},
   "outputs": [],
   "source": [
    "fd = open(\"record.json\",'r')\n",
    "\n",
    "txt = fd.read()\n",
    "\n",
    "fd.close()"
   ]
  },
  {
   "cell_type": "code",
   "execution_count": 12,
   "id": "387ae9b1",
   "metadata": {},
   "outputs": [
    {
     "data": {
      "text/plain": [
       "'{\"115015001\": {\"Name\": \"Helicopter\", \"Type\": \"Remote Control\", \"Price\": 699, \"Quantity\": 1450, \"Color\": \"Red\"}, \"115015002\": {\"Name\": \"Turtle Car\", \"Type\": \"Remote Control\", \"Price\": 699, \"Quantity\": 2190, \"Color\": \"Green\"}, \"115015003\": {\"Name\": \"Robot Car\", \"Type\": \"Remote Control\", \"Price\": 499, \"Quantity\": 2700, \"Color\": \"yellow\"}, \"115015004\": {\"Name\": \"Unicorn Horse\", \"Type\": \"Soft Toy\", \"Price\": 299, \"Quantity\": 2560, \"Color\": \"Multicolor\"}, \"115015005\": {\"Name\": \"Teddy Bear\", \"Type\": \"Soft Toy\", \"Price\": 419, \"Quantity\": 1300, \"Color\": \"Black-White\"}, \"115015006\": {\"Name\": \"Fluflies Bear\", \"Type\": \"Soft Toy\", \"Price\": 216, \"Quantity\": 1380, \"Color\": \"Yellow\"}, \"115015007\": {\"Name\": \"Mickey Chair\", \"Type\": \"Soft Toy\", \"Price\": 599, \"Quantity\": 295, \"Color\": \"Red\"}, \"115015008\": {\"Name\": \"OZEE elephant\", \"Type\": \"Soft Toy\", \"Price\": 165, \"Quantity\": 1170, \"Color\": \"Pink\"}, \"115015009\": {\"Name\": \"White Rabbit\", \"Type\": \"Soft Toy\", \"Price\": 119, \"Quantity\": 1450, \"Color\": \"White\"}, \"115015010\": {\"Name\": \"Desti Elephant\", \"Type\": \"Soft Toy\", \"Price\": 156, \"Quantity\": 1175, \"Color\": \"Blue\"}, \"115015011\": {\"Name\": \"Penguin\", \"Type\": \"Soft Toy\", \"Price\": 170, \"Quantity\": 2500, \"Color\": \"Blue\"}, \"115015012\": {\"Name\": \"Catterpillar\", \"Type\": \"Soft Toy\", \"Price\": 160, \"Quantity\": 1180, \"Color\": \"Multicolor\"}, \"115015013\": {\"Name\": \"Puzzle Mat\", \"Type\": \"Puzzle\", \"Price\": 189, \"Quantity\": 1270, \"Color\": \"Multicolor\"}, \"115015014\": {\"Name\": \"Magic Cube\", \"Type\": \"Puzzle\", \"Price\": 149, \"Quantity\": 1100, \"Color\": \"Multicolor\"}, \"115015015\": {\"Name\": \"Animal World\", \"Type\": \"Puzzle\", \"Price\": 244, \"Quantity\": 2480, \"Color\": \"Multicolor\"}, \"115015016\": {\"Name\": \"Indian Map\", \"Type\": \"Puzzle\", \"Price\": 173, \"Quantity\": 3240, \"Color\": \"Multicolor\"}, \"115015017\": {\"Name\": \"Marbles\", \"Type\": \"Marbles\", \"Price\": 199, \"Quantity\": 2200, \"Color\": \"Multicolor\"}, \"115015018\": {\"Name\": \"Painting kit\", \"Type\": \"Education Toy\", \"Price\": 169, \"Quantity\": 1600, \"Color\": \"Multicolor\"}, \"115015019\": {\"Name\": \"Makeup Set\", \"Type\": \"Girls Toy\", \"Price\": 189, \"Quantity\": 510, \"Color\": \"Multicolor\"}, \"115015020\": {\"Name\": \"Kitchen Set\", \"Type\": \"Girls Toy\", \"Price\": 172, \"Quantity\": 270, \"Color\": \"Multicolor\"}, \"115015021\": {\"Name\": \"Painting Brush\", \"Type\": \"Drawing Toy\", \"Price\": 72, \"Quantity\": 2150, \"Color\": \"Multicolor\"}, \"115015022\": {\"Name\": \"Snake and ladder\", \"Type\": \"Board Game\", \"Price\": 779, \"Quantity\": 4200, \"Color\": \"Multicolor\"}, \"115015023\": {\"Name\": \"Chess Set\", \"Type\": \"Board Game\", \"Price\": 347, \"Quantity\": 2280, \"Color\": \"Black-White\"}, \"115015024\": {\"Name\": \"Business\", \"Type\": \"Board Game\", \"Price\": 265, \"Quantity\": 1250, \"Color\": \"Multicolor\"}, \"115015025\": {\"Name\": \"Carrom\", \"Type\": \"Board Game\", \"Price\": 500, \"Quantity\": 1720, \"Color\": \"Shinny Cream\"}, \"115015026\": {\"Name\": \"Tic Tac Toe\", \"Type\": \"Board Game\", \"Price\": 175, \"Quantity\": 2020, \"Color\": \"Yellow\"}, \"115015027\": {\"Name\": \"Wodden DartBoard\", \"Type\": \"Board Game\", \"Price\": 499, \"Quantity\": 3520, \"Color\": \"Multicolor\"}, \"115015028\": {\"Name\": \"Runner Scooter\", \"Type\": \"Outdoor\", \"Price\": 3299, \"Quantity\": 3420, \"Color\": \"Red\"}, \"115015029\": {\"Name\": \"Beach Tool\", \"Type\": \"Outdoor\", \"Price\": 259, \"Quantity\": 2002, \"Color\": \"Multicolor\"}, \"115015030\": {\"Name\": \"House Hut\", \"Type\": \"Play Hut\", \"Price\": 1565, \"Quantity\": 2502, \"Color\": \"Pink-White\"}}'"
      ]
     },
     "execution_count": 12,
     "metadata": {},
     "output_type": "execute_result"
    }
   ],
   "source": [
    "txt"
   ]
  },
  {
   "cell_type": "code",
   "execution_count": 13,
   "id": "69d02f41",
   "metadata": {},
   "outputs": [],
   "source": [
    "record = json.loads(txt)"
   ]
  },
  {
   "cell_type": "code",
   "execution_count": 14,
   "id": "b88e8d03",
   "metadata": {},
   "outputs": [
    {
     "data": {
      "text/plain": [
       "{'115015001': {'Name': 'Helicopter',\n",
       "  'Type': 'Remote Control',\n",
       "  'Price': 699,\n",
       "  'Quantity': 1450,\n",
       "  'Color': 'Red'},\n",
       " '115015002': {'Name': 'Turtle Car',\n",
       "  'Type': 'Remote Control',\n",
       "  'Price': 699,\n",
       "  'Quantity': 2190,\n",
       "  'Color': 'Green'},\n",
       " '115015003': {'Name': 'Robot Car',\n",
       "  'Type': 'Remote Control',\n",
       "  'Price': 499,\n",
       "  'Quantity': 2700,\n",
       "  'Color': 'yellow'},\n",
       " '115015004': {'Name': 'Unicorn Horse',\n",
       "  'Type': 'Soft Toy',\n",
       "  'Price': 299,\n",
       "  'Quantity': 2560,\n",
       "  'Color': 'Multicolor'},\n",
       " '115015005': {'Name': 'Teddy Bear',\n",
       "  'Type': 'Soft Toy',\n",
       "  'Price': 419,\n",
       "  'Quantity': 1300,\n",
       "  'Color': 'Black-White'},\n",
       " '115015006': {'Name': 'Fluflies Bear',\n",
       "  'Type': 'Soft Toy',\n",
       "  'Price': 216,\n",
       "  'Quantity': 1380,\n",
       "  'Color': 'Yellow'},\n",
       " '115015007': {'Name': 'Mickey Chair',\n",
       "  'Type': 'Soft Toy',\n",
       "  'Price': 599,\n",
       "  'Quantity': 295,\n",
       "  'Color': 'Red'},\n",
       " '115015008': {'Name': 'OZEE elephant',\n",
       "  'Type': 'Soft Toy',\n",
       "  'Price': 165,\n",
       "  'Quantity': 1170,\n",
       "  'Color': 'Pink'},\n",
       " '115015009': {'Name': 'White Rabbit',\n",
       "  'Type': 'Soft Toy',\n",
       "  'Price': 119,\n",
       "  'Quantity': 1450,\n",
       "  'Color': 'White'},\n",
       " '115015010': {'Name': 'Desti Elephant',\n",
       "  'Type': 'Soft Toy',\n",
       "  'Price': 156,\n",
       "  'Quantity': 1175,\n",
       "  'Color': 'Blue'},\n",
       " '115015011': {'Name': 'Penguin',\n",
       "  'Type': 'Soft Toy',\n",
       "  'Price': 170,\n",
       "  'Quantity': 2500,\n",
       "  'Color': 'Blue'},\n",
       " '115015012': {'Name': 'Catterpillar',\n",
       "  'Type': 'Soft Toy',\n",
       "  'Price': 160,\n",
       "  'Quantity': 1180,\n",
       "  'Color': 'Multicolor'},\n",
       " '115015013': {'Name': 'Puzzle Mat',\n",
       "  'Type': 'Puzzle',\n",
       "  'Price': 189,\n",
       "  'Quantity': 1270,\n",
       "  'Color': 'Multicolor'},\n",
       " '115015014': {'Name': 'Magic Cube',\n",
       "  'Type': 'Puzzle',\n",
       "  'Price': 149,\n",
       "  'Quantity': 1100,\n",
       "  'Color': 'Multicolor'},\n",
       " '115015015': {'Name': 'Animal World',\n",
       "  'Type': 'Puzzle',\n",
       "  'Price': 244,\n",
       "  'Quantity': 2480,\n",
       "  'Color': 'Multicolor'},\n",
       " '115015016': {'Name': 'Indian Map',\n",
       "  'Type': 'Puzzle',\n",
       "  'Price': 173,\n",
       "  'Quantity': 3240,\n",
       "  'Color': 'Multicolor'},\n",
       " '115015017': {'Name': 'Marbles',\n",
       "  'Type': 'Marbles',\n",
       "  'Price': 199,\n",
       "  'Quantity': 2200,\n",
       "  'Color': 'Multicolor'},\n",
       " '115015018': {'Name': 'Painting kit',\n",
       "  'Type': 'Education Toy',\n",
       "  'Price': 169,\n",
       "  'Quantity': 1600,\n",
       "  'Color': 'Multicolor'},\n",
       " '115015019': {'Name': 'Makeup Set',\n",
       "  'Type': 'Girls Toy',\n",
       "  'Price': 189,\n",
       "  'Quantity': 510,\n",
       "  'Color': 'Multicolor'},\n",
       " '115015020': {'Name': 'Kitchen Set',\n",
       "  'Type': 'Girls Toy',\n",
       "  'Price': 172,\n",
       "  'Quantity': 270,\n",
       "  'Color': 'Multicolor'},\n",
       " '115015021': {'Name': 'Painting Brush',\n",
       "  'Type': 'Drawing Toy',\n",
       "  'Price': 72,\n",
       "  'Quantity': 2150,\n",
       "  'Color': 'Multicolor'},\n",
       " '115015022': {'Name': 'Snake and ladder',\n",
       "  'Type': 'Board Game',\n",
       "  'Price': 779,\n",
       "  'Quantity': 4200,\n",
       "  'Color': 'Multicolor'},\n",
       " '115015023': {'Name': 'Chess Set',\n",
       "  'Type': 'Board Game',\n",
       "  'Price': 347,\n",
       "  'Quantity': 2280,\n",
       "  'Color': 'Black-White'},\n",
       " '115015024': {'Name': 'Business',\n",
       "  'Type': 'Board Game',\n",
       "  'Price': 265,\n",
       "  'Quantity': 1250,\n",
       "  'Color': 'Multicolor'},\n",
       " '115015025': {'Name': 'Carrom',\n",
       "  'Type': 'Board Game',\n",
       "  'Price': 500,\n",
       "  'Quantity': 1720,\n",
       "  'Color': 'Shinny Cream'},\n",
       " '115015026': {'Name': 'Tic Tac Toe',\n",
       "  'Type': 'Board Game',\n",
       "  'Price': 175,\n",
       "  'Quantity': 2020,\n",
       "  'Color': 'Yellow'},\n",
       " '115015027': {'Name': 'Wodden DartBoard',\n",
       "  'Type': 'Board Game',\n",
       "  'Price': 499,\n",
       "  'Quantity': 3520,\n",
       "  'Color': 'Multicolor'},\n",
       " '115015028': {'Name': 'Runner Scooter',\n",
       "  'Type': 'Outdoor',\n",
       "  'Price': 3299,\n",
       "  'Quantity': 3420,\n",
       "  'Color': 'Red'},\n",
       " '115015029': {'Name': 'Beach Tool',\n",
       "  'Type': 'Outdoor',\n",
       "  'Price': 259,\n",
       "  'Quantity': 2002,\n",
       "  'Color': 'Multicolor'},\n",
       " '115015030': {'Name': 'House Hut',\n",
       "  'Type': 'Play Hut',\n",
       "  'Price': 1565,\n",
       "  'Quantity': 2502,\n",
       "  'Color': 'Pink-White'}}"
      ]
     },
     "execution_count": 14,
     "metadata": {},
     "output_type": "execute_result"
    }
   ],
   "source": [
    "record"
   ]
  },
  {
   "cell_type": "code",
   "execution_count": 15,
   "id": "b04f61ca",
   "metadata": {},
   "outputs": [
    {
     "data": {
      "text/plain": [
       "{'Name': 'Helicopter',\n",
       " 'Type': 'Remote Control',\n",
       " 'Price': 699,\n",
       " 'Quantity': 1450,\n",
       " 'Color': 'Red'}"
      ]
     },
     "execution_count": 15,
     "metadata": {},
     "output_type": "execute_result"
    }
   ],
   "source": [
    "record['115015001']"
   ]
  },
  {
   "cell_type": "code",
   "execution_count": 16,
   "id": "a30bed8d",
   "metadata": {},
   "outputs": [
    {
     "data": {
      "text/plain": [
       "{'Name': 'Carrom',\n",
       " 'Type': 'Board Game',\n",
       " 'Price': 500,\n",
       " 'Quantity': 1720,\n",
       " 'Color': 'Shinny Cream'}"
      ]
     },
     "execution_count": 16,
     "metadata": {},
     "output_type": "execute_result"
    }
   ],
   "source": [
    "record['115015025']"
   ]
  },
  {
   "cell_type": "code",
   "execution_count": 17,
   "id": "50e9e4f8",
   "metadata": {},
   "outputs": [
    {
     "data": {
      "text/plain": [
       "{'Name': 'Animal World',\n",
       " 'Type': 'Puzzle',\n",
       " 'Price': 244,\n",
       " 'Quantity': 2480,\n",
       " 'Color': 'Multicolor'}"
      ]
     },
     "execution_count": 17,
     "metadata": {},
     "output_type": "execute_result"
    }
   ],
   "source": [
    "record['115015015']"
   ]
  },
  {
   "cell_type": "code",
   "execution_count": 18,
   "id": "c94f87b1",
   "metadata": {},
   "outputs": [
    {
     "data": {
      "text/plain": [
       "{'Name': 'White Rabbit',\n",
       " 'Type': 'Soft Toy',\n",
       " 'Price': 119,\n",
       " 'Quantity': 1450,\n",
       " 'Color': 'White'}"
      ]
     },
     "execution_count": 18,
     "metadata": {},
     "output_type": "execute_result"
    }
   ],
   "source": [
    "record['115015009']"
   ]
  },
  {
   "cell_type": "code",
   "execution_count": 19,
   "id": "0f08b10c",
   "metadata": {},
   "outputs": [],
   "source": [
    "import time"
   ]
  },
  {
   "cell_type": "code",
   "execution_count": 20,
   "id": "09da1c5e",
   "metadata": {},
   "outputs": [
    {
     "data": {
      "text/plain": [
       "'Sun Sep  5 07:01:57 2021'"
      ]
     },
     "execution_count": 20,
     "metadata": {},
     "output_type": "execute_result"
    }
   ],
   "source": [
    "time.ctime()"
   ]
  },
  {
   "cell_type": "code",
   "execution_count": 21,
   "id": "3871a30b",
   "metadata": {},
   "outputs": [
    {
     "data": {
      "text/plain": [
       "dict_values([{'Name': 'Helicopter', 'Type': 'Remote Control', 'Price': 699, 'Quantity': 1450, 'Color': 'Red'}, {'Name': 'Turtle Car', 'Type': 'Remote Control', 'Price': 699, 'Quantity': 2190, 'Color': 'Green'}, {'Name': 'Robot Car', 'Type': 'Remote Control', 'Price': 499, 'Quantity': 2700, 'Color': 'yellow'}, {'Name': 'Unicorn Horse', 'Type': 'Soft Toy', 'Price': 299, 'Quantity': 2560, 'Color': 'Multicolor'}, {'Name': 'Teddy Bear', 'Type': 'Soft Toy', 'Price': 419, 'Quantity': 1300, 'Color': 'Black-White'}, {'Name': 'Fluflies Bear', 'Type': 'Soft Toy', 'Price': 216, 'Quantity': 1380, 'Color': 'Yellow'}, {'Name': 'Mickey Chair', 'Type': 'Soft Toy', 'Price': 599, 'Quantity': 295, 'Color': 'Red'}, {'Name': 'OZEE elephant', 'Type': 'Soft Toy', 'Price': 165, 'Quantity': 1170, 'Color': 'Pink'}, {'Name': 'White Rabbit', 'Type': 'Soft Toy', 'Price': 119, 'Quantity': 1450, 'Color': 'White'}, {'Name': 'Desti Elephant', 'Type': 'Soft Toy', 'Price': 156, 'Quantity': 1175, 'Color': 'Blue'}, {'Name': 'Penguin', 'Type': 'Soft Toy', 'Price': 170, 'Quantity': 2500, 'Color': 'Blue'}, {'Name': 'Catterpillar', 'Type': 'Soft Toy', 'Price': 160, 'Quantity': 1180, 'Color': 'Multicolor'}, {'Name': 'Puzzle Mat', 'Type': 'Puzzle', 'Price': 189, 'Quantity': 1270, 'Color': 'Multicolor'}, {'Name': 'Magic Cube', 'Type': 'Puzzle', 'Price': 149, 'Quantity': 1100, 'Color': 'Multicolor'}, {'Name': 'Animal World', 'Type': 'Puzzle', 'Price': 244, 'Quantity': 2480, 'Color': 'Multicolor'}, {'Name': 'Indian Map', 'Type': 'Puzzle', 'Price': 173, 'Quantity': 3240, 'Color': 'Multicolor'}, {'Name': 'Marbles', 'Type': 'Marbles', 'Price': 199, 'Quantity': 2200, 'Color': 'Multicolor'}, {'Name': 'Painting kit', 'Type': 'Education Toy', 'Price': 169, 'Quantity': 1600, 'Color': 'Multicolor'}, {'Name': 'Makeup Set', 'Type': 'Girls Toy', 'Price': 189, 'Quantity': 510, 'Color': 'Multicolor'}, {'Name': 'Kitchen Set', 'Type': 'Girls Toy', 'Price': 172, 'Quantity': 270, 'Color': 'Multicolor'}, {'Name': 'Painting Brush', 'Type': 'Drawing Toy', 'Price': 72, 'Quantity': 2150, 'Color': 'Multicolor'}, {'Name': 'Snake and ladder', 'Type': 'Board Game', 'Price': 779, 'Quantity': 4200, 'Color': 'Multicolor'}, {'Name': 'Chess Set', 'Type': 'Board Game', 'Price': 347, 'Quantity': 2280, 'Color': 'Black-White'}, {'Name': 'Business', 'Type': 'Board Game', 'Price': 265, 'Quantity': 1250, 'Color': 'Multicolor'}, {'Name': 'Carrom', 'Type': 'Board Game', 'Price': 500, 'Quantity': 1720, 'Color': 'Shinny Cream'}, {'Name': 'Tic Tac Toe', 'Type': 'Board Game', 'Price': 175, 'Quantity': 2020, 'Color': 'Yellow'}, {'Name': 'Wodden DartBoard', 'Type': 'Board Game', 'Price': 499, 'Quantity': 3520, 'Color': 'Multicolor'}, {'Name': 'Runner Scooter', 'Type': 'Outdoor', 'Price': 3299, 'Quantity': 3420, 'Color': 'Red'}, {'Name': 'Beach Tool', 'Type': 'Outdoor', 'Price': 259, 'Quantity': 2002, 'Color': 'Multicolor'}, {'Name': 'House Hut', 'Type': 'Play Hut', 'Price': 1565, 'Quantity': 2502, 'Color': 'Pink-White'}])"
      ]
     },
     "execution_count": 21,
     "metadata": {},
     "output_type": "execute_result"
    }
   ],
   "source": [
    "record.values()"
   ]
  },
  {
   "cell_type": "code",
   "execution_count": 22,
   "id": "b4dfe540",
   "metadata": {},
   "outputs": [
    {
     "data": {
      "text/plain": [
       "dict_keys(['115015001', '115015002', '115015003', '115015004', '115015005', '115015006', '115015007', '115015008', '115015009', '115015010', '115015011', '115015012', '115015013', '115015014', '115015015', '115015016', '115015017', '115015018', '115015019', '115015020', '115015021', '115015022', '115015023', '115015024', '115015025', '115015026', '115015027', '115015028', '115015029', '115015030'])"
      ]
     },
     "execution_count": 22,
     "metadata": {},
     "output_type": "execute_result"
    }
   ],
   "source": [
    "record.keys()"
   ]
  },
  {
   "cell_type": "code",
   "execution_count": 23,
   "id": "6f9ab510",
   "metadata": {},
   "outputs": [],
   "source": [
    "fd = open(\"record.json\",'r')\n",
    "r = fd.read()\n",
    "fd.close()\n",
    "\n",
    "record = json.loads(r)"
   ]
  },
  {
   "cell_type": "code",
   "execution_count": 24,
   "id": "42034830",
   "metadata": {},
   "outputs": [
    {
     "data": {
      "text/plain": [
       "{'115015001': {'Name': 'Helicopter',\n",
       "  'Type': 'Remote Control',\n",
       "  'Price': 699,\n",
       "  'Quantity': 1450,\n",
       "  'Color': 'Red'},\n",
       " '115015002': {'Name': 'Turtle Car',\n",
       "  'Type': 'Remote Control',\n",
       "  'Price': 699,\n",
       "  'Quantity': 2190,\n",
       "  'Color': 'Green'},\n",
       " '115015003': {'Name': 'Robot Car',\n",
       "  'Type': 'Remote Control',\n",
       "  'Price': 499,\n",
       "  'Quantity': 2700,\n",
       "  'Color': 'yellow'},\n",
       " '115015004': {'Name': 'Unicorn Horse',\n",
       "  'Type': 'Soft Toy',\n",
       "  'Price': 299,\n",
       "  'Quantity': 2560,\n",
       "  'Color': 'Multicolor'},\n",
       " '115015005': {'Name': 'Teddy Bear',\n",
       "  'Type': 'Soft Toy',\n",
       "  'Price': 419,\n",
       "  'Quantity': 1300,\n",
       "  'Color': 'Black-White'},\n",
       " '115015006': {'Name': 'Fluflies Bear',\n",
       "  'Type': 'Soft Toy',\n",
       "  'Price': 216,\n",
       "  'Quantity': 1380,\n",
       "  'Color': 'Yellow'},\n",
       " '115015007': {'Name': 'Mickey Chair',\n",
       "  'Type': 'Soft Toy',\n",
       "  'Price': 599,\n",
       "  'Quantity': 295,\n",
       "  'Color': 'Red'},\n",
       " '115015008': {'Name': 'OZEE elephant',\n",
       "  'Type': 'Soft Toy',\n",
       "  'Price': 165,\n",
       "  'Quantity': 1170,\n",
       "  'Color': 'Pink'},\n",
       " '115015009': {'Name': 'White Rabbit',\n",
       "  'Type': 'Soft Toy',\n",
       "  'Price': 119,\n",
       "  'Quantity': 1450,\n",
       "  'Color': 'White'},\n",
       " '115015010': {'Name': 'Desti Elephant',\n",
       "  'Type': 'Soft Toy',\n",
       "  'Price': 156,\n",
       "  'Quantity': 1175,\n",
       "  'Color': 'Blue'},\n",
       " '115015011': {'Name': 'Penguin',\n",
       "  'Type': 'Soft Toy',\n",
       "  'Price': 170,\n",
       "  'Quantity': 2500,\n",
       "  'Color': 'Blue'},\n",
       " '115015012': {'Name': 'Catterpillar',\n",
       "  'Type': 'Soft Toy',\n",
       "  'Price': 160,\n",
       "  'Quantity': 1180,\n",
       "  'Color': 'Multicolor'},\n",
       " '115015013': {'Name': 'Puzzle Mat',\n",
       "  'Type': 'Puzzle',\n",
       "  'Price': 189,\n",
       "  'Quantity': 1270,\n",
       "  'Color': 'Multicolor'},\n",
       " '115015014': {'Name': 'Magic Cube',\n",
       "  'Type': 'Puzzle',\n",
       "  'Price': 149,\n",
       "  'Quantity': 1100,\n",
       "  'Color': 'Multicolor'},\n",
       " '115015015': {'Name': 'Animal World',\n",
       "  'Type': 'Puzzle',\n",
       "  'Price': 244,\n",
       "  'Quantity': 2480,\n",
       "  'Color': 'Multicolor'},\n",
       " '115015016': {'Name': 'Indian Map',\n",
       "  'Type': 'Puzzle',\n",
       "  'Price': 173,\n",
       "  'Quantity': 3240,\n",
       "  'Color': 'Multicolor'},\n",
       " '115015017': {'Name': 'Marbles',\n",
       "  'Type': 'Marbles',\n",
       "  'Price': 199,\n",
       "  'Quantity': 2200,\n",
       "  'Color': 'Multicolor'},\n",
       " '115015018': {'Name': 'Painting kit',\n",
       "  'Type': 'Education Toy',\n",
       "  'Price': 169,\n",
       "  'Quantity': 1600,\n",
       "  'Color': 'Multicolor'},\n",
       " '115015019': {'Name': 'Makeup Set',\n",
       "  'Type': 'Girls Toy',\n",
       "  'Price': 189,\n",
       "  'Quantity': 510,\n",
       "  'Color': 'Multicolor'},\n",
       " '115015020': {'Name': 'Kitchen Set',\n",
       "  'Type': 'Girls Toy',\n",
       "  'Price': 172,\n",
       "  'Quantity': 270,\n",
       "  'Color': 'Multicolor'},\n",
       " '115015021': {'Name': 'Painting Brush',\n",
       "  'Type': 'Drawing Toy',\n",
       "  'Price': 72,\n",
       "  'Quantity': 2150,\n",
       "  'Color': 'Multicolor'},\n",
       " '115015022': {'Name': 'Snake and ladder',\n",
       "  'Type': 'Board Game',\n",
       "  'Price': 779,\n",
       "  'Quantity': 4200,\n",
       "  'Color': 'Multicolor'},\n",
       " '115015023': {'Name': 'Chess Set',\n",
       "  'Type': 'Board Game',\n",
       "  'Price': 347,\n",
       "  'Quantity': 2280,\n",
       "  'Color': 'Black-White'},\n",
       " '115015024': {'Name': 'Business',\n",
       "  'Type': 'Board Game',\n",
       "  'Price': 265,\n",
       "  'Quantity': 1250,\n",
       "  'Color': 'Multicolor'},\n",
       " '115015025': {'Name': 'Carrom',\n",
       "  'Type': 'Board Game',\n",
       "  'Price': 500,\n",
       "  'Quantity': 1720,\n",
       "  'Color': 'Shinny Cream'},\n",
       " '115015026': {'Name': 'Tic Tac Toe',\n",
       "  'Type': 'Board Game',\n",
       "  'Price': 175,\n",
       "  'Quantity': 2020,\n",
       "  'Color': 'Yellow'},\n",
       " '115015027': {'Name': 'Wodden DartBoard',\n",
       "  'Type': 'Board Game',\n",
       "  'Price': 499,\n",
       "  'Quantity': 3520,\n",
       "  'Color': 'Multicolor'},\n",
       " '115015028': {'Name': 'Runner Scooter',\n",
       "  'Type': 'Outdoor',\n",
       "  'Price': 3299,\n",
       "  'Quantity': 3420,\n",
       "  'Color': 'Red'},\n",
       " '115015029': {'Name': 'Beach Tool',\n",
       "  'Type': 'Outdoor',\n",
       "  'Price': 259,\n",
       "  'Quantity': 2002,\n",
       "  'Color': 'Multicolor'},\n",
       " '115015030': {'Name': 'House Hut',\n",
       "  'Type': 'Play Hut',\n",
       "  'Price': 1565,\n",
       "  'Quantity': 2502,\n",
       "  'Color': 'Pink-White'}}"
      ]
     },
     "execution_count": 24,
     "metadata": {},
     "output_type": "execute_result"
    }
   ],
   "source": [
    "record"
   ]
  },
  {
   "cell_type": "markdown",
   "id": "4d665e7e",
   "metadata": {},
   "source": [
    "### Add New Items To Inventory"
   ]
  },
  {
   "cell_type": "code",
   "execution_count": 43,
   "id": "51baf181",
   "metadata": {},
   "outputs": [
    {
     "name": "stdout",
     "output_type": "stream",
     "text": [
      "Enter product id:115015040\n",
      "Enter name of product:Football\n",
      "Enter type of product:Outdoor Toy\n",
      "Enter price of product:299\n",
      "Enter quantity of product:1200\n",
      "Enter color of product:Black-White\n"
     ]
    }
   ],
   "source": [
    "prod_id = str(input(\"Enter product id:\"))\n",
    "Name = str(input(\"Enter name of product:\"))\n",
    "Type = str(input(\"Enter type of product:\"))\n",
    "Price = int(input(\"Enter price of product:\"))\n",
    "Quantity = int(input(\"Enter quantity of product:\"))\n",
    "Color = str(input(\"Enter color of product:\"))\n",
    "\n",
    "record[prod_id] = {'Name': Name, 'Type': Type, 'Price': Price , 'Quantity': Quantity, 'Color': Color}\n",
    "\n",
    "js = json.dumps(record)\n",
    "\n",
    "fd = open(\"record.json\",'w')\n",
    "fd.write(js)\n",
    "fd.close()"
   ]
  },
  {
   "cell_type": "code",
   "execution_count": 44,
   "id": "81356c33",
   "metadata": {},
   "outputs": [
    {
     "data": {
      "text/plain": [
       "{'115015001': {'Name': 'Helicopter',\n",
       "  'Type': 'Remote Control',\n",
       "  'Price': 699,\n",
       "  'Quantity': 1450,\n",
       "  'Color': 'Red'},\n",
       " '115015002': {'Name': 'Turtle Car',\n",
       "  'Type': 'Remote Control',\n",
       "  'Price': 699,\n",
       "  'Quantity': 2190,\n",
       "  'Color': 'Green'},\n",
       " '115015003': {'Name': 'Robot Car',\n",
       "  'Type': 'Remote Control',\n",
       "  'Price': 499,\n",
       "  'Quantity': 2700,\n",
       "  'Color': 'yellow'},\n",
       " '115015004': {'Name': 'Unicorn Horse',\n",
       "  'Type': 'Soft Toy',\n",
       "  'Price': 299,\n",
       "  'Quantity': 2560,\n",
       "  'Color': 'Multicolor'},\n",
       " '115015005': {'Name': 'Teddy Bear',\n",
       "  'Type': 'Soft Toy',\n",
       "  'Price': 419,\n",
       "  'Quantity': 1300,\n",
       "  'Color': 'Black-White'},\n",
       " '115015006': {'Name': 'Fluflies Bear',\n",
       "  'Type': 'Soft Toy',\n",
       "  'Price': 216,\n",
       "  'Quantity': 1380,\n",
       "  'Color': 'Yellow'},\n",
       " '115015007': {'Name': 'Mickey Chair',\n",
       "  'Type': 'Soft Toy',\n",
       "  'Price': 599,\n",
       "  'Quantity': 295,\n",
       "  'Color': 'Red'},\n",
       " '115015008': {'Name': 'OZEE elephant',\n",
       "  'Type': 'Soft Toy',\n",
       "  'Price': 165,\n",
       "  'Quantity': 1170,\n",
       "  'Color': 'Pink'},\n",
       " '115015009': {'Name': 'White Rabbit',\n",
       "  'Type': 'Soft Toy',\n",
       "  'Price': 119,\n",
       "  'Quantity': 1450,\n",
       "  'Color': 'White'},\n",
       " '115015010': {'Name': 'Desti Elephant',\n",
       "  'Type': 'Soft Toy',\n",
       "  'Price': 156,\n",
       "  'Quantity': 1175,\n",
       "  'Color': 'Blue'},\n",
       " '115015011': {'Name': 'Penguin',\n",
       "  'Type': 'Soft Toy',\n",
       "  'Price': 170,\n",
       "  'Quantity': 2500,\n",
       "  'Color': 'Blue'},\n",
       " '115015012': {'Name': 'Catterpillar',\n",
       "  'Type': 'Soft Toy',\n",
       "  'Price': 160,\n",
       "  'Quantity': 1180,\n",
       "  'Color': 'Multicolor'},\n",
       " '115015013': {'Name': 'Puzzle Mat',\n",
       "  'Type': 'Puzzle',\n",
       "  'Price': 189,\n",
       "  'Quantity': 1270,\n",
       "  'Color': 'Multicolor'},\n",
       " '115015014': {'Name': 'Magic Cube',\n",
       "  'Type': 'Puzzle',\n",
       "  'Price': 149,\n",
       "  'Quantity': 1100,\n",
       "  'Color': 'Multicolor'},\n",
       " '115015015': {'Name': 'Animal World',\n",
       "  'Type': 'Puzzle',\n",
       "  'Price': 244,\n",
       "  'Quantity': 2480,\n",
       "  'Color': 'Multicolor'},\n",
       " '115015016': {'Name': 'Indian Map',\n",
       "  'Type': 'Puzzle',\n",
       "  'Price': 173,\n",
       "  'Quantity': 3240,\n",
       "  'Color': 'Multicolor'},\n",
       " '115015017': {'Name': 'Marbles',\n",
       "  'Type': 'Marbles',\n",
       "  'Price': 199,\n",
       "  'Quantity': 2200,\n",
       "  'Color': 'Multicolor'},\n",
       " '115015018': {'Name': 'Painting kit',\n",
       "  'Type': 'Education Toy',\n",
       "  'Price': 169,\n",
       "  'Quantity': 1600,\n",
       "  'Color': 'Multicolor'},\n",
       " '115015019': {'Name': 'Makeup Set',\n",
       "  'Type': 'Girls Toy',\n",
       "  'Price': 189,\n",
       "  'Quantity': 510,\n",
       "  'Color': 'Multicolor'},\n",
       " '115015020': {'Name': 'Kitchen Set',\n",
       "  'Type': 'Girls Toy',\n",
       "  'Price': 172,\n",
       "  'Quantity': 270,\n",
       "  'Color': 'Multicolor'},\n",
       " '115015021': {'Name': 'Painting Brush',\n",
       "  'Type': 'Drawing Toy',\n",
       "  'Price': 72,\n",
       "  'Quantity': 2150,\n",
       "  'Color': 'Multicolor'},\n",
       " '115015022': {'Name': 'Snake and ladder',\n",
       "  'Type': 'Board Game',\n",
       "  'Price': 779,\n",
       "  'Quantity': 4200,\n",
       "  'Color': 'Multicolor'},\n",
       " '115015023': {'Name': 'Chess Set',\n",
       "  'Type': 'Board Game',\n",
       "  'Price': 347,\n",
       "  'Quantity': 2280,\n",
       "  'Color': 'Black-White'},\n",
       " '115015024': {'Name': 'Business',\n",
       "  'Type': 'Board Game',\n",
       "  'Price': 265,\n",
       "  'Quantity': 1250,\n",
       "  'Color': 'Multicolor'},\n",
       " '115015025': {'Name': 'Carrom',\n",
       "  'Type': 'Board Game',\n",
       "  'Price': 500,\n",
       "  'Quantity': 1720,\n",
       "  'Color': 'Shinny Cream'},\n",
       " '115015026': {'Name': 'Tic Tac Toe',\n",
       "  'Type': 'Board Game',\n",
       "  'Price': 175,\n",
       "  'Quantity': 2020,\n",
       "  'Color': 'Yellow'},\n",
       " '115015027': {'Name': 'Wodden DartBoard',\n",
       "  'Type': 'Board Game',\n",
       "  'Price': 499,\n",
       "  'Quantity': 3520,\n",
       "  'Color': 'Multicolor'},\n",
       " '115015028': {'Name': 'Runner Scooter',\n",
       "  'Type': 'Outdoor',\n",
       "  'Price': 3299,\n",
       "  'Quantity': 3420,\n",
       "  'Color': 'Red'},\n",
       " '115015029': {'Name': 'Beach Tool',\n",
       "  'Type': 'Outdoor',\n",
       "  'Price': 259,\n",
       "  'Quantity': 2002,\n",
       "  'Color': 'Multicolor'},\n",
       " '115015030': {'Name': 'House Hut',\n",
       "  'Type': 'Play Hut',\n",
       "  'Price': 1565,\n",
       "  'Quantity': 2502,\n",
       "  'Color': 'Pink-White'},\n",
       " '115015031': {'Name': 'Indian Currency Notes',\n",
       "  'Type': 'Prank Toy',\n",
       "  'Price': 170,\n",
       "  'Quantity': 350,\n",
       "  'Color': 'Multicolor'},\n",
       " '115015032': {'Name': 'Spiderman Toy',\n",
       "  'Type': 'Action Toy',\n",
       "  'Price': 699,\n",
       "  'Quantity': 700,\n",
       "  'Color': 'Red-Blue'},\n",
       " '115015033': {'Name': 'Rubber Snakes',\n",
       "  'Type': 'Action Toy',\n",
       "  'Price': 200,\n",
       "  'Quantity': 350,\n",
       "  'Color': 'Dark-Green'},\n",
       " '115015034': {'Name': 'Spring Doll',\n",
       "  'Type': 'Action Toy',\n",
       "  'Price': 279,\n",
       "  'Quantity': 300,\n",
       "  'Color': 'Yellow'},\n",
       " '115015035': {'Name': 'Piano Keyboard',\n",
       "  'Type': 'Musical Toy',\n",
       "  'Price': 499,\n",
       "  'Quantity': 400,\n",
       "  'Color': 'Black-White'},\n",
       " '115015036': {'Name': 'Dancing Robot',\n",
       "  'Type': 'Action Toy',\n",
       "  'Price': 656,\n",
       "  'Quantity': 600,\n",
       "  'Color': 'Grey'},\n",
       " '115015037': {'Name': 'Racket Set',\n",
       "  'Type': 'Outdoor Toy',\n",
       "  'Price': 159,\n",
       "  'Quantity': 340,\n",
       "  'Color': 'Blue'},\n",
       " '115015038': {'Name': 'Ball & Stumps',\n",
       "  'Type': 'Outdoor Toy',\n",
       "  'Price': 340,\n",
       "  'Quantity': 140,\n",
       "  'Color': 'Yellow'},\n",
       " '115015039': {'Name': 'Punching Bag',\n",
       "  'Type': 'Outdoor Toy',\n",
       "  'Price': 599,\n",
       "  'Quantity': 140,\n",
       "  'Color': 'Red'},\n",
       " '115015040': {'Name': 'Football',\n",
       "  'Type': 'Outdoor Toy',\n",
       "  'Price': 299,\n",
       "  'Quantity': 1200,\n",
       "  'Color': 'Black-White'}}"
      ]
     },
     "execution_count": 44,
     "metadata": {},
     "output_type": "execute_result"
    }
   ],
   "source": [
    "record"
   ]
  },
  {
   "cell_type": "code",
   "execution_count": null,
   "id": "398485be",
   "metadata": {},
   "outputs": [],
   "source": []
  }
 ],
 "metadata": {
  "kernelspec": {
   "display_name": "Python 3",
   "language": "python",
   "name": "python3"
  },
  "language_info": {
   "codemirror_mode": {
    "name": "ipython",
    "version": 3
   },
   "file_extension": ".py",
   "mimetype": "text/x-python",
   "name": "python",
   "nbconvert_exporter": "python",
   "pygments_lexer": "ipython3",
   "version": "3.8.8"
  }
 },
 "nbformat": 4,
 "nbformat_minor": 5
}
